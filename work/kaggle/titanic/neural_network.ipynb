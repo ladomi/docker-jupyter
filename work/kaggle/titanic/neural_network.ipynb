{
 "cells": [
  {
   "cell_type": "code",
   "execution_count": 5,
   "metadata": {},
   "outputs": [],
   "source": [
    "import warnings\n",
    "warnings.filterwarnings('ignore')\n",
    "\n",
    "import pandas as pd\n",
    "import numpy as np\n",
    "\n",
    "from keras.models import Sequential\n",
    "from keras.layers import Dense, Activation\n",
    "\n",
    "path_train = \"data/train.csv\"\n",
    "path_test = \"data/test.csv\"\n",
    "\n",
    "train = pd.read_csv(path_train)\n",
    "test = pd.read_csv(path_test)\n",
    "\n",
    "\n",
    "# pandas dataframeからtfに入れる前に.valuesでnumpy.ndarrayに変換しておく必要がある\n"
   ]
  }
 ],
 "metadata": {
  "kernelspec": {
   "display_name": "Python 3",
   "language": "python",
   "name": "python3"
  },
  "language_info": {
   "codemirror_mode": {
    "name": "ipython",
    "version": 3
   },
   "file_extension": ".py",
   "mimetype": "text/x-python",
   "name": "python",
   "nbconvert_exporter": "python",
   "pygments_lexer": "ipython3",
   "version": "3.6.6"
  }
 },
 "nbformat": 4,
 "nbformat_minor": 2
}
